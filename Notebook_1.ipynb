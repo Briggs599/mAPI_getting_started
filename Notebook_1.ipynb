{
  "nbformat": 4,
  "nbformat_minor": 0,
  "metadata": {
    "colab": {
      "name": "Notebook_1.ipynb",
      "provenance": [],
      "collapsed_sections": []
    },
    "kernelspec": {
      "name": "python3",
      "display_name": "Python 3"
    },
    "language_info": {
      "name": "python"
    }
  },
  "cells": [
    {
      "cell_type": "markdown",
      "source": [
        "# **<div align=\"center\"> Dolby.io Developer Days Media APIs 101 - Getting Started </div>**\n",
        "### **<div align=\"center\"> Notebook #1: Getting Started</div>**"
      ],
      "metadata": {
        "id": "9KZLfOL-0tCy"
      }
    },
    {
      "cell_type": "markdown",
      "source": [
        "### **Step #1**\n",
        "- Go to http://dashboard.dolby.io/signup/ to sign up for a Dolby.io account.\n",
        "- At the bottom of the \"Applications\" widget on the dashboard, click add new app.\n",
        "- Label the app \"mAPI_start\".\n",
        "- Once created click on the application labeled \"mAPI_start\" and scroll down to the box labeled 'Media APIs\".\n",
        "- Copy the key text under \"API Key:\" and replace the string below, then run the cell. *Click the play button or hit \"shift-enter\".*"
      ],
      "metadata": {
        "id": "zXV8NLJH1EIg"
      }
    },
    {
      "cell_type": "code",
      "source": [
        "import IPython\n",
        "!git clone https://github.com/Briggs599/mAPI_getting_started\n",
        "%cd mAPI_getting_started\n",
        "\n",
        "\n",
        "dolbyio_mapi_key = \"n4YHNZPlDpy23Z0E89h6WvZYsbNZAGUE\""
      ],
      "metadata": {
        "id": "bgSPCctL01Ze"
      },
      "execution_count": null,
      "outputs": []
    },
    {
      "cell_type": "markdown",
      "source": [
        "Great, running the code above has accomplished two things:\n",
        "1. We defined our Media API Key, which is required for using the Media APIs.\n",
        "2. We've cloned the rest of the GitHub which includes everything we'll need for the workshop 🥳.\n",
        "\n",
        "Let's listen to our first sample audio file, you might recognize it from the Dolby.io website. Run the cell and press play on the widget:"
      ],
      "metadata": {
        "id": "WUDHzge-Hqen"
      }
    },
    {
      "cell_type": "code",
      "source": [
        "IPython.display.Audio(\"https://dashboard.dolby.io/static/CleanCutNoise540-debc1025d9e3db58dbc2e06a75931bf4.mp4\")"
      ],
      "metadata": {
        "id": "7Sj6zmkrEqYo"
      },
      "execution_count": null,
      "outputs": []
    },
    {
      "cell_type": "markdown",
      "source": [
        "### **Step #2**\n",
        "- For this demo, the sample audio file is already stored on the Dolby.io server.\n",
        "- Run the cell below to start the enhance job, this should take a few minute to complete. "
      ],
      "metadata": {
        "id": "1uqPPpMp5R3p"
      }
    },
    {
      "cell_type": "code",
      "source": [
        "from functions import start_job\n",
        "job_id = start_job(dolbyio_mapi_key, \"enhance\")"
      ],
      "metadata": {
        "id": "OOLhPjHK5ygz"
      },
      "execution_count": null,
      "outputs": []
    },
    {
      "cell_type": "markdown",
      "source": [
        "### **Step #3**\n",
        "- Once the job above has completed, we can redownload the file to give it a listen.\n",
        "- Run the cell below to download our enhanced test_1.wav file."
      ],
      "metadata": {
        "id": "0EAIZFek6Dv2"
      }
    },
    {
      "cell_type": "code",
      "source": [
        "from functions import download_file\n",
        "download_file(dolbyio_mapi_key, job_id)"
      ],
      "metadata": {
        "id": "yGS1xkn-6WkM"
      },
      "execution_count": null,
      "outputs": []
    },
    {
      "cell_type": "markdown",
      "source": [
        "### **Step #4**\n",
        "- Now that the file is downloaded give test_1-enhanced.wav a listen. Does it sound better?\n"
      ],
      "metadata": {
        "id": "dIqlEBZY6eJE"
      }
    },
    {
      "cell_type": "code",
      "source": [
        "IPython.display.Audio(\"/content/mAPI_getting_started/test_1-enhanced.wav\")"
      ],
      "metadata": {
        "id": "H3TFNT6wFFHs"
      },
      "execution_count": null,
      "outputs": []
    },
    {
      "cell_type": "markdown",
      "source": [
        "### **<div align=\"center\">Congratulations you made your first call with the Dolby.io Enhance API!</div>**"
      ],
      "metadata": {
        "id": "5xusdkoLFJId"
      }
    }
  ]
}