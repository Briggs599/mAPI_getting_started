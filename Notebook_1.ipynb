{
  "nbformat": 4,
  "nbformat_minor": 0,
  "metadata": {
    "colab": {
      "name": "Notebook_1.ipynb",
      "provenance": [],
      "collapsed_sections": []
    },
    "kernelspec": {
      "name": "python3",
      "display_name": "Python 3"
    },
    "language_info": {
      "name": "python"
    }
  },
  "cells": [
    {
      "cell_type": "markdown",
      "source": [
        "# Dolby.io Media APIs 101\n",
        "# **Notebook 1: Getting Started**"
      ],
      "metadata": {
        "id": "9KZLfOL-0tCy"
      }
    },
    {
      "cell_type": "markdown",
      "source": [
        "### **Step #1**\n",
        "- Go to http://dashboard.dolby.io/signup/ to sign up for a Dolby.io account.\n",
        "- At the bottom of the \"Applications\" widget on the dashboard, click add new app.\n",
        "- Label the app \"mAPI_start\".\n",
        "- Once created click on the application labeled \"mAPI_start\" and scroll down to the box labeled 'Media APIs\".\n",
        "- Copy the key text under \"API Key:\" and replace the string below, then run the cell."
      ],
      "metadata": {
        "id": "zXV8NLJH1EIg"
      }
    },
    {
      "cell_type": "code",
      "source": [
        "!git clone https://github.com/Briggs599/mAPI_getting_started\n",
        "dolbyio_mapi_key = \"mAPI_API_Key_HERE\""
      ],
      "metadata": {
        "id": "bgSPCctL01Ze"
      },
      "execution_count": null,
      "outputs": []
    },
    {
      "cell_type": "markdown",
      "source": [
        "### **Step #2**\n",
        "- Listen to the test_1.wav file stored under the files tab on the left hand side of the screen.\n",
        "- Once you've listened to the file we can start our first Dolby.io Enhance job. Dolby.io Enhance is an API that can enhance the quality of your audio content reducing distractions such as background noise, Plosives, Sibilance and hum. It's okay if you don't understand everything I've mentioned, over the course of this workshop we will learn much more about audio terminology.\n",
        "- Run the cell below to upload the test_1.wav file to the Dolby.io servers."
      ],
      "metadata": {
        "id": "EZwzh87m26PV"
      }
    },
    {
      "cell_type": "code",
      "source": [
        "from functions import upload_file\n",
        "file_id = upload_file(dolbyio_mapi_key, \"test_1.wav\")"
      ],
      "metadata": {
        "id": "jOdKkzcs41Fq"
      },
      "execution_count": null,
      "outputs": []
    },
    {
      "cell_type": "markdown",
      "source": [
        "### **Step #3**\n",
        "- Now that we have added test_1.wav to the Dolby.io server, we can start an Enhance job.\n",
        "- Run the cell below to started the enhance job, this should take a few minute to complete. "
      ],
      "metadata": {
        "id": "1uqPPpMp5R3p"
      }
    },
    {
      "cell_type": "code",
      "source": [
        "from functions import start_job\n",
        "job_id = start_job(dolbyio_mapi_key, \"enhance\", file_id)"
      ],
      "metadata": {
        "id": "OOLhPjHK5ygz"
      },
      "execution_count": null,
      "outputs": []
    },
    {
      "cell_type": "markdown",
      "source": [
        "### **Step #4**\n",
        "- Once the job above has completed we can redownload the file to give it a listen.\n",
        "- Run the cell below to download our enhanced test_1.wav file."
      ],
      "metadata": {
        "id": "0EAIZFek6Dv2"
      }
    },
    {
      "cell_type": "code",
      "source": [
        "from functions import download_file\n",
        "download_file(dolbyio_mapi_key, job_id)"
      ],
      "metadata": {
        "id": "yGS1xkn-6WkM"
      },
      "execution_count": null,
      "outputs": []
    },
    {
      "cell_type": "markdown",
      "source": [
        "### **Step #5**\n",
        "- Now that the file is downloaded give test_1-enhanced.wav. Does is sound better?\n",
        "\n",
        "\n",
        "**Congratulations you made your first call with the Dolby.io Enhance API!**"
      ],
      "metadata": {
        "id": "dIqlEBZY6eJE"
      }
    }
  ]
}