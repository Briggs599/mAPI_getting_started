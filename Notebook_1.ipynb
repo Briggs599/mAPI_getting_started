{
  "nbformat": 4,
  "nbformat_minor": 0,
  "metadata": {
    "colab": {
      "name": "Notebook_1.ipynb",
      "provenance": [],
      "collapsed_sections": []
    },
    "kernelspec": {
      "name": "python3",
      "display_name": "Python 3"
    },
    "language_info": {
      "name": "python"
    }
  },
  "cells": [
    {
      "cell_type": "markdown",
      "source": [
        "# **<div align=\"center\"> Dolby.io Developer Days Media APIs 101 - Getting Started </div>**\n",
        "### **<div align=\"center\"> Notebook #1: Getting Started</div>**"
      ],
      "metadata": {
        "id": "9KZLfOL-0tCy"
      }
    },
    {
      "cell_type": "markdown",
      "source": [
        "### **Step #1**\n",
        "- Go to http://dashboard.dolby.io/signup/ to sign up for a Dolby.io account.\n",
        "- At the bottom of the \"Applications\" widget on the dashboard, click \"*my first app*\"\n",
        "- Scroll down to the box labeled 'Media APIs\".\n",
        "- Copy the key text under \"API Key:\" and replace the string below, then run the cell. *Click the play button.*"
      ],
      "metadata": {
        "id": "zXV8NLJH1EIg"
      }
    },
    {
      "cell_type": "code",
      "source": [
        "!git clone https://github.com/Briggs599/mAPI_getting_started\n",
        "%cd mAPI_getting_started\n",
        "\n",
        "dolbyio_mapi_key = \"INSERT_YOUR_API_KEY_HERE\""
      ],
      "metadata": {
        "id": "bgSPCctL01Ze",
        "outputId": "96080717-f573-46cb-941d-76f8893aca2c",
        "colab": {
          "base_uri": "https://localhost:8080/"
        }
      },
      "execution_count": 1,
      "outputs": [
        {
          "output_type": "stream",
          "name": "stdout",
          "text": [
            "Cloning into 'mAPI_getting_started'...\n",
            "remote: Enumerating objects: 74, done.\u001b[K\n",
            "remote: Counting objects: 100% (74/74), done.\u001b[K\n",
            "remote: Compressing objects: 100% (74/74), done.\u001b[K\n",
            "remote: Total 74 (delta 31), reused 0 (delta 0), pack-reused 0\u001b[K\n",
            "Unpacking objects: 100% (74/74), done.\n",
            "/content/mAPI_getting_started\n"
          ]
        }
      ]
    },
    {
      "cell_type": "markdown",
      "source": [
        "Great, running the code above has accomplished two things:\n",
        "1. We defined our Media API Key, which is required for using the Media APIs.\n",
        "2. We've cloned the rest of the GitHub which includes everything we'll need for the workshop 🥳.\n",
        "\n",
        "Let's listen to our first sample audio file, you might recognize it from the Dolby.io website. Run the cell and press play on the widget:"
      ],
      "metadata": {
        "id": "WUDHzge-Hqen"
      }
    },
    {
      "cell_type": "code",
      "source": [
        "import IPython\n",
        "IPython.display.Audio(\"https://dashboard.dolby.io/static/CleanCutNoise540-debc1025d9e3db58dbc2e06a75931bf4.mp4\")"
      ],
      "metadata": {
        "id": "7Sj6zmkrEqYo"
      },
      "execution_count": null,
      "outputs": []
    },
    {
      "cell_type": "markdown",
      "source": [
        "### **Step #2**\n",
        "- For this demo, the sample audio file is already stored on the Dolby.io server.\n",
        "- Run the cell below to start the enhance job, this should take a few minute to complete. "
      ],
      "metadata": {
        "id": "1uqPPpMp5R3p"
      }
    },
    {
      "cell_type": "code",
      "source": [
        "from functions import start_job\n",
        "job_id = start_job(dolbyio_mapi_key, \"enhance\")"
      ],
      "metadata": {
        "id": "OOLhPjHK5ygz"
      },
      "execution_count": null,
      "outputs": []
    },
    {
      "cell_type": "markdown",
      "source": [
        "### **Step #3**\n",
        "- Once the job above has completed, we can redownload the file to give it a listen.\n",
        "- Run the cell below to download our enhanced test_1.wav file."
      ],
      "metadata": {
        "id": "0EAIZFek6Dv2"
      }
    },
    {
      "cell_type": "code",
      "source": [
        "from functions import download_file\n",
        "download_file(dolbyio_mapi_key, job_id)"
      ],
      "metadata": {
        "id": "yGS1xkn-6WkM"
      },
      "execution_count": null,
      "outputs": []
    },
    {
      "cell_type": "markdown",
      "source": [
        "### **Step #4**\n",
        "- Now that the file is downloaded give test_1-enhanced.wav a listen. Does it sound better?\n"
      ],
      "metadata": {
        "id": "dIqlEBZY6eJE"
      }
    },
    {
      "cell_type": "code",
      "source": [
        "IPython.display.Audio(\"/content/mAPI_getting_started/test_1-enhanced.wav\")"
      ],
      "metadata": {
        "id": "H3TFNT6wFFHs"
      },
      "execution_count": null,
      "outputs": []
    },
    {
      "cell_type": "markdown",
      "source": [
        "### **<div>Congratulations you made your first call with the Dolby.io Enhance API!</div>**\n",
        "\n",
        "Click the \"Open in Colab\" button to continue\"\n",
        "\n",
        "<a href=\"https://colab.research.google.com/github/Briggs599/mAPI_getting_started/blob/main/Notebook_2.ipynb\" target=\"_parent\\\"><img src=\"https://colab.research.google.com/assets/colab-badge.svg\" alt=\"Click me to open In Colab\"/></a>"
      ],
      "metadata": {
        "id": "5xusdkoLFJId"
      }
    }
  ]
}